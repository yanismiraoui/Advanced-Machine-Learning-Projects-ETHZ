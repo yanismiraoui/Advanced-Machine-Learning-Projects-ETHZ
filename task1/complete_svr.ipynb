{
 "cells": [
  {
   "cell_type": "code",
   "execution_count": 7,
   "metadata": {},
   "outputs": [
    {
     "name": "stdout",
     "output_type": "stream",
     "text": [
      "0.6081467485265141\n"
     ]
    }
   ],
   "source": [
    "import pandas as pd \n",
    "import numpy as np\n",
    "from sklearn.model_selection import train_test_split, cross_validate\n",
    "from sklearn.pipeline import make_pipeline\n",
    "from sklearn.impute import SimpleImputer\n",
    "from sklearn.preprocessing import RobustScaler, StandardScaler\n",
    "from sklearn.feature_selection import VarianceThreshold, SelectPercentile, SelectKBest, RFECV, f_regression \n",
    "from sklearn.ensemble import IsolationForest\n",
    "from sklearn.ensemble import GradientBoostingRegressor\n",
    "from sklearn.svm import  SVR\n",
    "\n",
    "X_test = pd.read_csv(\"X_test.csv\")\n",
    "X_train = pd.read_csv(\"X_train.csv\")\n",
    "y_train = pd.read_csv(\"y_train.csv\")\n",
    "\n",
    "columns = X_train.columns[1:]\n",
    "\n",
    "# convert to np arrays\n",
    "X = X_train.iloc[:,1:].to_numpy()\n",
    "y = y_train.iloc[:,1:].to_numpy().reshape(-1)\n",
    "X_test = X_test.iloc[:,1:].to_numpy()\n",
    "\n",
    "\n",
    "x_stack = np.vstack((X,X_test))\n",
    "from sklearn.impute import KNNImputer\n",
    "imputer = KNNImputer(n_neighbors=15)\n",
    "x_stack = imputer.fit_transform(x_stack)\n",
    "X = x_stack[:1212]\n",
    "X_test = x_stack[1212:]\n",
    "\n",
    "outliers = IsolationForest(n_estimators=1000, random_state=0).fit_predict(X)\n",
    "#behaviour='new', max_samples=100, random_state = 1, contamination='auto'\n",
    "X = X[np.where(outliers == 1)[0]].copy()\n",
    "y = y[np.where(outliers == 1)[0]].copy()\n",
    "\n",
    "selector = VarianceThreshold()\n",
    "selector.fit(X)\n",
    "to_delete = np.where(selector.variances_ == 0)[0]\n",
    "X = np.delete(X, to_delete, axis=1)\n",
    "X_test = np.delete(X_test, to_delete, axis=1)\n",
    "\n",
    "from sklearn.linear_model import LinearRegression\n",
    "from sklearn.ensemble import RandomForestRegressor\n",
    "from sklearn.ensemble import VotingRegressor\n",
    "from sklearn.ensemble import GradientBoostingRegressor\n",
    "from sklearn.svm import SVC\n",
    "from sklearn.kernel_ridge import KernelRidge\n",
    "from sklearn.gaussian_process import GaussianProcessRegressor\n",
    "from sklearn.gaussian_process.kernels import RBF, DotProduct, WhiteKernel, Matern, ExpSineSquared, ConstantKernel as C\n",
    "\n",
    "kernel = Matern(length_scale=100.0, nu=10)\n",
    "\n",
    "est = GradientBoostingRegressor(n_estimators=1000, learning_rate=0.1, max_depth=100, random_state=0,loss='squared_error')\n",
    "r1 = SVR(C=37, gamma=0.0219)\n",
    "r2 = RandomForestRegressor(n_estimators=1000, random_state=1)\n",
    "regr = make_pipeline(RobustScaler(), SelectKBest(f_regression, k=94), SVR(C=37, gamma=0.0219))#VotingRegressor([(\"est\", est), (\"r1\", r1), (\"r2\", r2)]))\n",
    "cv_results = cross_validate(regr, X, y, scoring=('r2'))\n",
    "print(cv_results['test_score'].mean())"
   ]
  },
  {
   "cell_type": "code",
   "execution_count": 8,
   "metadata": {},
   "outputs": [
    {
     "data": {
      "text/plain": [
       "SVC(class_weight='balanced')"
      ]
     },
     "execution_count": 8,
     "metadata": {},
     "output_type": "execute_result"
    }
   ],
   "source": [
    "SVC(class_weight='balanced')"
   ]
  },
  {
   "cell_type": "code",
   "execution_count": 9,
   "metadata": {},
   "outputs": [
    {
     "data": {
      "text/plain": [
       "(1209, 828)"
      ]
     },
     "execution_count": 9,
     "metadata": {},
     "output_type": "execute_result"
    }
   ],
   "source": [
    "X.shape"
   ]
  },
  {
   "cell_type": "code",
   "execution_count": 11,
   "metadata": {},
   "outputs": [],
   "source": [
    "regr.fit(X, y)\n",
    "y_pred = regr.predict(X_test)\n",
    "X_test = pd.read_csv(\"X_test.csv\")\n",
    "df_ids = pd.DataFrame(X_test['id'])\n",
    "df_predictions = df_ids.join(pd.DataFrame(y_pred, columns=['y']))\n",
    "df_predictions.to_csv('model_results/svr_y_test.csv', index=False)"
   ]
  },
  {
   "cell_type": "code",
   "execution_count": 12,
   "metadata": {},
   "outputs": [],
   "source": [
    "y_train_pred = regr.predict(X)\n",
    "X_train = pd.read_csv(\"X_train.csv\")\n",
    "df_ids = pd.DataFrame(X_train['id'])\n",
    "df_predictions = df_ids.join(pd.DataFrame(y_train_pred, columns=['y']))\n",
    "df_predictions.to_csv('model_results/svr_y_train.csv', index=False)"
   ]
  },
  {
   "cell_type": "code",
   "execution_count": 15,
   "metadata": {},
   "outputs": [
    {
     "data": {
      "text/plain": [
       "array([71.1001745 , 72.90013536, 66.10019421, ..., 81.89975404,\n",
       "       76.09983803, 80.89981725])"
      ]
     },
     "execution_count": 15,
     "metadata": {},
     "output_type": "execute_result"
    }
   ],
   "source": [
    "y_train_pred"
   ]
  },
  {
   "cell_type": "code",
   "execution_count": 16,
   "metadata": {},
   "outputs": [
    {
     "data": {
      "text/plain": [
       "array([71., 73., 66., ..., 82., 76., 81.])"
      ]
     },
     "execution_count": 16,
     "metadata": {},
     "output_type": "execute_result"
    }
   ],
   "source": [
    "y"
   ]
  },
  {
   "cell_type": "code",
   "execution_count": 17,
   "metadata": {},
   "outputs": [],
   "source": [
    "df_predictions = df_ids.join(pd.DataFrame(y, columns=['y']))\n",
    "df_predictions.to_csv('model_results/y_train.csv', index=False)"
   ]
  }
 ],
 "metadata": {
  "interpreter": {
   "hash": "8697ffd23d66446d592afda574e6b966b5d3c7c7a76ece1c6d9691e118759c03"
  },
  "kernelspec": {
   "display_name": "Python 3",
   "language": "python",
   "name": "python3"
  },
  "language_info": {
   "codemirror_mode": {
    "name": "ipython",
    "version": 3
   },
   "file_extension": ".py",
   "mimetype": "text/x-python",
   "name": "python",
   "nbconvert_exporter": "python",
   "pygments_lexer": "ipython3",
   "version": "3.8.10"
  }
 },
 "nbformat": 4,
 "nbformat_minor": 4
}
